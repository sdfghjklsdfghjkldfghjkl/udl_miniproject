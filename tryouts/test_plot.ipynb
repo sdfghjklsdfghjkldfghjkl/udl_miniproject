{
 "cells": [
  {
   "cell_type": "code",
   "execution_count": 2,
   "metadata": {},
   "outputs": [],
   "source": [
    "import torch\n",
    "\n",
    "import vcl\n",
    "import dataset\n",
    "import coresets\n",
    "import plots\n",
    "import numpy as np\n",
    "from models import MultiheadModel\n",
    "\n",
    "import sys, os"
   ]
  },
  {
   "cell_type": "code",
   "execution_count": 2,
   "metadata": {},
   "outputs": [
    {
     "name": "stdout",
     "output_type": "stream",
     "text": [
      "Starting Task 1\n"
     ]
    },
    {
     "name": "stderr",
     "output_type": "stream",
     "text": [
      "  0%|          | 0/10 [00:00<?, ?it/s]"
     ]
    },
    {
     "name": "stderr",
     "output_type": "stream",
     "text": [
      "100%|██████████| 10/10 [00:07<00:00,  1.28it/s]\n"
     ]
    },
    {
     "name": "stdout",
     "output_type": "stream",
     "text": [
      "Done Training Task 1\n",
      "\n",
      "Task 1 Accuracy: 0.995260663507109\n",
      "\n",
      "Starting Task 2\n"
     ]
    },
    {
     "name": "stderr",
     "output_type": "stream",
     "text": [
      "100%|██████████| 10/10 [00:07<00:00,  1.37it/s]\n"
     ]
    },
    {
     "name": "stdout",
     "output_type": "stream",
     "text": [
      "Done Training Task 2\n",
      "\n",
      "Task 1 Accuracy: 0.995260663507109\n",
      "Task 2 Accuracy: 0.9117647058823529\n",
      "\n",
      "Starting Task 3\n"
     ]
    },
    {
     "name": "stderr",
     "output_type": "stream",
     "text": [
      "100%|██████████| 10/10 [00:06<00:00,  1.43it/s]\n"
     ]
    },
    {
     "name": "stdout",
     "output_type": "stream",
     "text": [
      "Done Training Task 3\n",
      "\n",
      "Task 1 Accuracy: 0.995260663507109\n",
      "Task 2 Accuracy: 0.8725490196078431\n",
      "Task 3 Accuracy: 0.9358288770053476\n",
      "\n",
      "Starting Task 4\n"
     ]
    },
    {
     "name": "stderr",
     "output_type": "stream",
     "text": [
      "100%|██████████| 10/10 [00:07<00:00,  1.35it/s]\n"
     ]
    },
    {
     "name": "stdout",
     "output_type": "stream",
     "text": [
      "Done Training Task 4\n",
      "\n",
      "Task 1 Accuracy: 0.995260663507109\n",
      "Task 2 Accuracy: 0.8823529411764706\n",
      "Task 3 Accuracy: 0.9090909090909091\n",
      "Task 4 Accuracy: 0.9797979797979798\n",
      "\n",
      "Starting Task 5\n"
     ]
    },
    {
     "name": "stderr",
     "output_type": "stream",
     "text": [
      "100%|██████████| 10/10 [00:06<00:00,  1.44it/s]\n"
     ]
    },
    {
     "name": "stdout",
     "output_type": "stream",
     "text": [
      "Done Training Task 5\n",
      "\n",
      "Task 1 Accuracy: 0.995260663507109\n",
      "Task 2 Accuracy: 0.8872549019607843\n",
      "Task 3 Accuracy: 0.9144385026737968\n",
      "Task 4 Accuracy: 0.9797979797979798\n",
      "Task 5 Accuracy: 0.8737373737373737\n",
      "\n",
      "[[0.99526066        nan        nan        nan        nan]\n",
      " [0.99526066 0.91176471        nan        nan        nan]\n",
      " [0.99526066 0.87254902 0.93582888        nan        nan]\n",
      " [0.99526066 0.88235294 0.90909091 0.97979798        nan]\n",
      " [0.99526066 0.8872549  0.9144385  0.97979798 0.87373737]]\n",
      "Starting Task 1\n"
     ]
    },
    {
     "name": "stderr",
     "output_type": "stream",
     "text": [
      "100%|██████████| 10/10 [00:07<00:00,  1.36it/s]\n"
     ]
    },
    {
     "name": "stdout",
     "output_type": "stream",
     "text": [
      "Done Training Task 1\n",
      "\n",
      "Task 1 Accuracy: 1.0\n",
      "\n",
      "Starting Task 2\n"
     ]
    },
    {
     "name": "stderr",
     "output_type": "stream",
     "text": [
      "100%|██████████| 10/10 [00:07<00:00,  1.40it/s]\n"
     ]
    },
    {
     "name": "stdout",
     "output_type": "stream",
     "text": [
      "Done Training Task 2\n",
      "\n",
      "Task 1 Accuracy: 1.0\n",
      "Task 2 Accuracy: 0.9362745098039216\n",
      "\n",
      "Starting Task 3\n"
     ]
    },
    {
     "name": "stderr",
     "output_type": "stream",
     "text": [
      "100%|██████████| 10/10 [00:06<00:00,  1.46it/s]\n"
     ]
    },
    {
     "name": "stdout",
     "output_type": "stream",
     "text": [
      "Done Training Task 3\n",
      "\n",
      "Task 1 Accuracy: 0.995260663507109\n",
      "Task 2 Accuracy: 0.9117647058823529\n",
      "Task 3 Accuracy: 0.9358288770053476\n",
      "\n",
      "Starting Task 4\n"
     ]
    },
    {
     "name": "stderr",
     "output_type": "stream",
     "text": [
      "100%|██████████| 10/10 [00:07<00:00,  1.35it/s]\n"
     ]
    },
    {
     "name": "stdout",
     "output_type": "stream",
     "text": [
      "Done Training Task 4\n",
      "\n",
      "Task 1 Accuracy: 1.0\n",
      "Task 2 Accuracy: 0.9068627450980392\n",
      "Task 3 Accuracy: 0.9197860962566845\n",
      "Task 4 Accuracy: 0.9797979797979798\n",
      "\n",
      "Starting Task 5\n"
     ]
    },
    {
     "name": "stderr",
     "output_type": "stream",
     "text": [
      "100%|██████████| 10/10 [00:07<00:00,  1.40it/s]\n"
     ]
    },
    {
     "name": "stdout",
     "output_type": "stream",
     "text": [
      "Done Training Task 5\n",
      "\n",
      "Task 1 Accuracy: 0.995260663507109\n",
      "Task 2 Accuracy: 0.8921568627450981\n",
      "Task 3 Accuracy: 0.946524064171123\n",
      "Task 4 Accuracy: 0.9797979797979798\n",
      "Task 5 Accuracy: 0.9191919191919192\n",
      "\n",
      "[[1.                nan        nan        nan        nan]\n",
      " [1.         0.93627451        nan        nan        nan]\n",
      " [0.99526066 0.91176471 0.93582888        nan        nan]\n",
      " [1.         0.90686275 0.9197861  0.97979798        nan]\n",
      " [0.99526066 0.89215686 0.94652406 0.97979798 0.91919192]]\n",
      "Starting Task 1\n"
     ]
    },
    {
     "name": "stderr",
     "output_type": "stream",
     "text": [
      "100%|██████████| 10/10 [00:07<00:00,  1.31it/s]\n"
     ]
    },
    {
     "name": "stdout",
     "output_type": "stream",
     "text": [
      "Done Training Task 1\n",
      "Replaying Task 1\n"
     ]
    },
    {
     "name": "stderr",
     "output_type": "stream",
     "text": [
      "100%|██████████| 10/10 [00:01<00:00,  7.50it/s]\n"
     ]
    },
    {
     "name": "stdout",
     "output_type": "stream",
     "text": [
      "\n",
      "Task 1 Accuracy: 1.0\n",
      "\n",
      "Starting Task 2\n"
     ]
    },
    {
     "name": "stderr",
     "output_type": "stream",
     "text": [
      "100%|██████████| 10/10 [00:07<00:00,  1.38it/s]\n"
     ]
    },
    {
     "name": "stdout",
     "output_type": "stream",
     "text": [
      "Done Training Task 2\n",
      "Replaying Task 1\n"
     ]
    },
    {
     "name": "stderr",
     "output_type": "stream",
     "text": [
      "100%|██████████| 10/10 [00:01<00:00,  7.62it/s]\n"
     ]
    },
    {
     "name": "stdout",
     "output_type": "stream",
     "text": [
      "Replaying Task 2\n"
     ]
    },
    {
     "name": "stderr",
     "output_type": "stream",
     "text": [
      "100%|██████████| 10/10 [00:01<00:00,  7.77it/s]\n"
     ]
    },
    {
     "name": "stdout",
     "output_type": "stream",
     "text": [
      "\n",
      "Task 1 Accuracy: 1.0\n",
      "Task 2 Accuracy: 0.9166666666666666\n",
      "\n",
      "Starting Task 3\n"
     ]
    },
    {
     "name": "stderr",
     "output_type": "stream",
     "text": [
      "100%|██████████| 10/10 [00:06<00:00,  1.45it/s]\n"
     ]
    },
    {
     "name": "stdout",
     "output_type": "stream",
     "text": [
      "Done Training Task 3\n",
      "Replaying Task 1\n"
     ]
    },
    {
     "name": "stderr",
     "output_type": "stream",
     "text": [
      "100%|██████████| 10/10 [00:01<00:00,  7.64it/s]\n"
     ]
    },
    {
     "name": "stdout",
     "output_type": "stream",
     "text": [
      "Replaying Task 2\n"
     ]
    },
    {
     "name": "stderr",
     "output_type": "stream",
     "text": [
      "100%|██████████| 10/10 [00:01<00:00,  7.59it/s]\n"
     ]
    },
    {
     "name": "stdout",
     "output_type": "stream",
     "text": [
      "Replaying Task 3\n"
     ]
    },
    {
     "name": "stderr",
     "output_type": "stream",
     "text": [
      "100%|██████████| 10/10 [00:01<00:00,  7.57it/s]\n"
     ]
    },
    {
     "name": "stdout",
     "output_type": "stream",
     "text": [
      "\n",
      "Task 1 Accuracy: 0.995260663507109\n",
      "Task 2 Accuracy: 0.9411764705882353\n",
      "Task 3 Accuracy: 0.9518716577540107\n",
      "\n",
      "Starting Task 4\n"
     ]
    },
    {
     "name": "stderr",
     "output_type": "stream",
     "text": [
      "100%|██████████| 10/10 [00:07<00:00,  1.33it/s]\n"
     ]
    },
    {
     "name": "stdout",
     "output_type": "stream",
     "text": [
      "Done Training Task 4\n",
      "Replaying Task 1\n"
     ]
    },
    {
     "name": "stderr",
     "output_type": "stream",
     "text": [
      "100%|██████████| 10/10 [00:01<00:00,  7.40it/s]\n"
     ]
    },
    {
     "name": "stdout",
     "output_type": "stream",
     "text": [
      "Replaying Task 2\n"
     ]
    },
    {
     "name": "stderr",
     "output_type": "stream",
     "text": [
      "100%|██████████| 10/10 [00:01<00:00,  7.55it/s]\n"
     ]
    },
    {
     "name": "stdout",
     "output_type": "stream",
     "text": [
      "Replaying Task 3\n"
     ]
    },
    {
     "name": "stderr",
     "output_type": "stream",
     "text": [
      "100%|██████████| 10/10 [00:01<00:00,  7.58it/s]\n"
     ]
    },
    {
     "name": "stdout",
     "output_type": "stream",
     "text": [
      "Replaying Task 4\n"
     ]
    },
    {
     "name": "stderr",
     "output_type": "stream",
     "text": [
      "100%|██████████| 10/10 [00:01<00:00,  7.73it/s]\n"
     ]
    },
    {
     "name": "stdout",
     "output_type": "stream",
     "text": [
      "\n",
      "Task 1 Accuracy: 0.995260663507109\n",
      "Task 2 Accuracy: 0.9362745098039216\n",
      "Task 3 Accuracy: 0.9358288770053476\n",
      "Task 4 Accuracy: 1.0\n",
      "\n",
      "Starting Task 5\n"
     ]
    },
    {
     "name": "stderr",
     "output_type": "stream",
     "text": [
      "100%|██████████| 10/10 [00:07<00:00,  1.28it/s]\n"
     ]
    },
    {
     "name": "stdout",
     "output_type": "stream",
     "text": [
      "Done Training Task 5\n",
      "Replaying Task 1\n"
     ]
    },
    {
     "name": "stderr",
     "output_type": "stream",
     "text": [
      "100%|██████████| 10/10 [00:01<00:00,  7.67it/s]\n"
     ]
    },
    {
     "name": "stdout",
     "output_type": "stream",
     "text": [
      "Replaying Task 2\n"
     ]
    },
    {
     "name": "stderr",
     "output_type": "stream",
     "text": [
      "100%|██████████| 10/10 [00:01<00:00,  7.52it/s]\n"
     ]
    },
    {
     "name": "stdout",
     "output_type": "stream",
     "text": [
      "Replaying Task 3\n"
     ]
    },
    {
     "name": "stderr",
     "output_type": "stream",
     "text": [
      "100%|██████████| 10/10 [00:02<00:00,  4.23it/s]\n"
     ]
    },
    {
     "name": "stdout",
     "output_type": "stream",
     "text": [
      "Replaying Task 4\n"
     ]
    },
    {
     "name": "stderr",
     "output_type": "stream",
     "text": [
      "100%|██████████| 10/10 [00:01<00:00,  7.66it/s]\n"
     ]
    },
    {
     "name": "stdout",
     "output_type": "stream",
     "text": [
      "Replaying Task 5\n"
     ]
    },
    {
     "name": "stderr",
     "output_type": "stream",
     "text": [
      "100%|██████████| 10/10 [00:01<00:00,  7.54it/s]\n"
     ]
    },
    {
     "name": "stdout",
     "output_type": "stream",
     "text": [
      "\n",
      "Task 1 Accuracy: 0.995260663507109\n",
      "Task 2 Accuracy: 0.9215686274509803\n",
      "Task 3 Accuracy: 0.9518716577540107\n",
      "Task 4 Accuracy: 1.0\n",
      "Task 5 Accuracy: 0.9393939393939394\n",
      "\n",
      "[[1.                nan        nan        nan        nan]\n",
      " [1.         0.91666667        nan        nan        nan]\n",
      " [0.99526066 0.94117647 0.95187166        nan        nan]\n",
      " [0.99526066 0.93627451 0.93582888 1.                nan]\n",
      " [0.99526066 0.92156863 0.95187166 1.         0.93939394]]\n"
     ]
    },
    {
     "ename": "TypeError",
     "evalue": "list indices must be integers or slices, not tuple",
     "output_type": "error",
     "traceback": [
      "\u001b[1;31m---------------------------------------------------------------------------\u001b[0m",
      "\u001b[1;31mTypeError\u001b[0m                                 Traceback (most recent call last)",
      "Cell \u001b[1;32mIn[2], line 50\u001b[0m\n\u001b[0;32m     47\u001b[0m accs \u001b[38;5;241m=\u001b[39m np\u001b[38;5;241m.\u001b[39mnanmean(all_accs, axis\u001b[38;5;241m=\u001b[39m\u001b[38;5;241m1\u001b[39m)\n\u001b[0;32m     48\u001b[0m data\u001b[38;5;241m.\u001b[39mappend(all_accs); methods\u001b[38;5;241m.\u001b[39mappend(\u001b[38;5;124m\"\u001b[39m\u001b[38;5;124mVanilla VCL\u001b[39m\u001b[38;5;124m\"\u001b[39m)\n\u001b[1;32m---> 50\u001b[0m \u001b[43mplots\u001b[49m\u001b[38;5;241;43m.\u001b[39;49m\u001b[43msplit_plot\u001b[49m\u001b[43m(\u001b[49m\u001b[43mdata\u001b[49m\u001b[43m,\u001b[49m\u001b[43m \u001b[49m\u001b[43mmethods\u001b[49m\u001b[43m)\u001b[49m\n\u001b[0;32m     53\u001b[0m \u001b[38;5;66;03m# Random Coreset Only\u001b[39;00m\n\u001b[0;32m     54\u001b[0m \u001b[38;5;66;03m# coreset_size = 200\u001b[39;00m\n\u001b[0;32m     55\u001b[0m \u001b[38;5;66;03m# coreset_method = coresets.attach_random_coreset_split\u001b[39;00m\n\u001b[1;32m   (...)\u001b[0m\n\u001b[0;32m     59\u001b[0m \u001b[38;5;66;03m# print(\"Random Only\")\u001b[39;00m\n\u001b[0;32m     60\u001b[0m \u001b[38;5;66;03m# print(\"Average accuracy after each task:\", accs)\u001b[39;00m\n",
      "File \u001b[1;32mc:\\Users\\Dell 5520\\Downloads\\9\\plots.py:54\u001b[0m, in \u001b[0;36msplit_plot\u001b[1;34m(data, methods)\u001b[0m\n\u001b[0;32m     52\u001b[0m \u001b[38;5;28;01mfor\u001b[39;00m x \u001b[38;5;129;01min\u001b[39;00m data:\n\u001b[0;32m     53\u001b[0m     \u001b[38;5;28;01mfor\u001b[39;00m i \u001b[38;5;129;01min\u001b[39;00m \u001b[38;5;28mrange\u001b[39m(\u001b[38;5;241m5\u001b[39m):\n\u001b[1;32m---> 54\u001b[0m         ax1[i]\u001b[38;5;241m.\u001b[39mplot(x[i:], \u001b[43mdata\u001b[49m\u001b[43m[\u001b[49m\u001b[43mi\u001b[49m\u001b[43m:\u001b[49m\u001b[43m,\u001b[49m\u001b[43m \u001b[49m\u001b[43mi\u001b[49m\u001b[43m]\u001b[49m)\n\u001b[0;32m     55\u001b[0m         ax2[i]\u001b[38;5;241m.\u001b[39mplot(x[i:], data[i:, i])\n\u001b[0;32m     56\u001b[0m     ax1[\u001b[38;5;241m-\u001b[39m\u001b[38;5;241m1\u001b[39m]\u001b[38;5;241m.\u001b[39mplot(x, np\u001b[38;5;241m.\u001b[39mnanmean(data,\u001b[38;5;241m1\u001b[39m))\n",
      "\u001b[1;31mTypeError\u001b[0m: list indices must be integers or slices, not tuple"
     ]
    },
    {
     "data": {
      "text/plain": [
       "<Figure size 640x480 with 0 Axes>"
      ]
     },
     "metadata": {},
     "output_type": "display_data"
    },
    {
     "data": {
      "image/png": "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",
      "text/plain": [
       "<Figure size 1600x200 with 6 Axes>"
      ]
     },
     "metadata": {},
     "output_type": "display_data"
    },
    {
     "data": {
      "image/png": "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",
      "text/plain": [
       "<Figure size 1600x200 with 6 Axes>"
      ]
     },
     "metadata": {},
     "output_type": "display_data"
    }
   ],
   "source": [
    "\n",
    "\n",
    "device = torch.device(\"cuda\") if torch.cuda.is_available() else torch.device(\"cpu\")\n",
    "\n",
    "num_tasks = 5\n",
    "num_epochs = 10 # 100 or 10\n",
    "single_head = False\n",
    "batch_size = 256\n",
    "\n",
    "class_distribution = [\n",
    "    [0, 1],\n",
    "    [2, 3],\n",
    "    [4, 5],\n",
    "    [6, 7],\n",
    "    [8, 9],\n",
    "]\n",
    "dataloaders = dataset.mini_SplitMnistDataloader(class_distribution, batch_size)\n",
    "model = MultiheadModel(28*28)\n",
    "model.to(device)\n",
    "data = []; methods = []\n",
    "\n",
    "# Vanilla VCL - no coreset\n",
    "coreset_size = 0\n",
    "coreset_method = coresets.attach_random_coreset_split\n",
    "all_accs = vcl.run_vcl(num_tasks, single_head, num_epochs, dataloaders,\n",
    "            model, coreset_method, coreset_size, beta=0.01)\n",
    "all_accs = vcl.run_vcl(num_tasks, single_head, num_epochs, dataloaders,\n",
    "            model, coreset_method, coreset_size, beta=0.01)\n",
    "data.append(all_accs); methods.append(\"Vanilla VCL\")\n",
    "\n",
    "\n",
    "# Random Coreset VCL\n",
    "coreset_size = 200\n",
    "dataloaders = dataset.mini_SplitMnistDataloader(class_distribution, batch_size)\n",
    "coreset_method = coresets.attach_random_coreset_split\n",
    "\n",
    "all_accs = vcl.run_vcl(num_tasks, single_head, num_epochs, dataloaders,\n",
    "            model, coreset_method, coreset_size, beta=0.01)\n",
    "accs = np.nanmean(all_accs, axis=1)\n",
    "data.append(all_accs); methods.append(\"Vanilla VCL\")\n",
    "\n",
    "plots.split_plot(data, methods)\n",
    "\n",
    "\n",
    "# Random Coreset Only\n",
    "# coreset_size = 200\n",
    "# coreset_method = coresets.attach_random_coreset_split\n",
    "# all_accs = vcl.run_coresetonly(num_tasks, single_head, num_epochs, dataloaders,\n",
    "#             model, coreset_method, coreset_size, beta=0.01)\n",
    "# accs = np.nanmean(all_accs, axis=1)\n",
    "# print(\"Random Only\")\n",
    "# print(\"Average accuracy after each task:\", accs)\n"
   ]
  },
  {
   "cell_type": "code",
   "execution_count": 8,
   "metadata": {},
   "outputs": [],
   "source": [
    "import torch\n",
    "\n",
    "import vcl\n",
    "import dataset\n",
    "import coresets\n",
    "import plots\n",
    "import numpy as np\n",
    "from models import MultiheadModel\n",
    "import matplotlib.pyplot as plt\n",
    "import matplotlib.pyplot as plt\n",
    "import numpy as np\n",
    "import matplotlib.pyplot as plt\n",
    "import numpy as np\n",
    "import matplotlib as mpl\n",
    "from PIL import Image\n",
    "import gzip\n",
    "import pickle as cp\n",
    "import glob\n",
    "\n",
    "import sys, os\n",
    "#np.save(\"./\files\heler_file\".format(\"\"), data)\n",
    "data = np.load(\"\files\heler_file.npy\")\n",
    "methods = [\"a\", \"b\"]"
   ]
  },
  {
   "cell_type": "code",
   "execution_count": 26,
   "metadata": {},
   "outputs": [
    {
     "data": {
      "text/plain": [
       "<Figure size 432x288 with 0 Axes>"
      ]
     },
     "metadata": {},
     "output_type": "display_data"
    },
    {
     "data": {
      "image/png": "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",
      "text/plain": [
       "<Figure size 1152x144 with 6 Axes>"
      ]
     },
     "metadata": {
      "needs_background": "light"
     },
     "output_type": "display_data"
    },
    {
     "data": {
      "image/png": "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",
      "text/plain": [
       "<Figure size 1152x144 with 6 Axes>"
      ]
     },
     "metadata": {
      "needs_background": "light"
     },
     "output_type": "display_data"
    }
   ],
   "source": [
    "\n",
    "split_plot(data, methods)\n"
   ]
  },
  {
   "cell_type": "code",
   "execution_count": 25,
   "metadata": {},
   "outputs": [],
   "source": [
    "def split_plot(data, methods):\n",
    "    x = np.arange(1,6)\n",
    "    mpl.rcParams['lines.markersize'] = 4\n",
    "    mpl.rcParams['lines.linewidth'] = 0.75\n",
    "    mpl.rcParams['lines.marker'] = \"s\"\n",
    "\n",
    "    plt.clf()\n",
    "    g, ax1 = plt.subplots(1, 6, figsize=(16,2), sharex=True,sharey=True)\n",
    "    h, ax2 = plt.subplots(1, 6, figsize=(16,2), sharex=True,sharey=True)\n",
    "\n",
    "    for acc in data:\n",
    "        for i in range(5):\n",
    "            ax1[i].plot(x[i:], acc[i:, i], marker = \"s\")\n",
    "            ax2[i].plot(x[i:], acc[i:, i], marker = \"s\")\n",
    "        ax1[-1].plot(x, np.nanmean(acc,1), marker = \"s\")\n",
    "        ax2[-1].plot(x, np.nanmean(acc,1), marker = \"s\")\n",
    "\n",
    "        \n",
    "\n",
    "    for i in range(6):\n",
    "        ax1[i].set_yticks(np.arange(0.25, 1.25, 0.25))\n",
    "        ax2[i].set_yticks(np.arange(0.85, 1.01, 0.05))\n",
    "\n",
    "        for ax in [ax1, ax2]:\n",
    "            ax[i].set_xticks(np.arange(1, 6, 1))\n",
    "            ax[i].title.set_text(f\"Task {i}\")\n",
    "            ax[i].set_xlabel(\"Task\"); \n",
    "            ax[i].set_ylabel(\"Accuracy\"); \n",
    "\n",
    "        plt.ylim(0.85,1.01)\n",
    "\n",
    "    ax1[5].title.set_text(\"Average\"); ax2[5].title.set_text(\"Average\")\n",
    "\n",
    "    g.legend(   # The line objects\n",
    "           labels=methods,\n",
    "           loc=\"center right\",   # Position of legend\n",
    "           borderaxespad=0.3,    # Small spacing around legend box\n",
    "           title=\"Methods:\"  # Title for the legend\n",
    "           )\n",
    "    h.legend(   # The line objects\n",
    "           labels=methods,\n",
    "           loc=\"center right\",   # Position of legend\n",
    "           borderaxespad=0.3,    # Small spacing around legend box\n",
    "           title=\"Methods:\"  # Title for the legend\n",
    "           )\n"
   ]
  }
 ],
 "metadata": {
  "kernelspec": {
   "display_name": ".venv",
   "language": "python",
   "name": "python3"
  },
  "language_info": {
   "codemirror_mode": {
    "name": "ipython",
    "version": 3
   },
   "file_extension": ".py",
   "mimetype": "text/x-python",
   "name": "python",
   "nbconvert_exporter": "python",
   "pygments_lexer": "ipython3",
   "version": "3.7.3"
  }
 },
 "nbformat": 4,
 "nbformat_minor": 2
}
