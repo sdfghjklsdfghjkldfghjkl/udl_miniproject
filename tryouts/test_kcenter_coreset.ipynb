{
 "cells": [
  {
   "cell_type": "code",
   "execution_count": 24,
   "metadata": {},
   "outputs": [],
   "source": [
    "import torch\n",
    "\n",
    "\n",
    "def attach_random_coreset_split(coresets, sub_train_loader, num_samples=200):\n",
    "    \"\"\"\n",
    "    Attaches a randomly selected subset (coreset) from a given DataLoader to a list of coresets.\n",
    "    \n",
    "    This function selects a random subset from `sub_train_loader` based on `num_samples` and creates a new DataLoader for this subset.\n",
    "    It then appends this new DataLoader to the provided list `coresets`. The original DataLoader (`sub_train_loader`) is modified\n",
    "    by removing the selected subset indices, effectively partitioning the dataset.\n",
    "    \n",
    "    Args:\n",
    "        coresets (list): A list where the new coreset DataLoader is appended.\n",
    "        sub_train_loader (DataLoader): The DataLoader from which a random coreset is drawn.\n",
    "        num_samples (int): The number of samples to include in the coreset.\n",
    "    \"\"\"\n",
    "    \n",
    "    # Extract current sample indices from the DataLoader\n",
    "    task_indices = sub_train_loader.sampler.indices\n",
    "    \n",
    "    # Shuffle indices to ensure the randomness of the coreset\n",
    "    shuffled_task_indices = task_indices[torch.randperm(len(task_indices))]\n",
    "    \n",
    "    # Select a subset of indices to form the coreset\n",
    "    coreset_indices = shuffled_task_indices[:num_samples]\n",
    "    \n",
    "    # Update the DataLoader to exclude the coreset indices, thus reducing its size\n",
    "    sub_train_loader.sampler.indices = shuffled_task_indices[num_samples:]\n",
    "    \n",
    "    # Create a new sampler for the coreset based on the selected indices\n",
    "    coreset_sampler = torch.utils.data.SubsetRandomSampler(coreset_indices)\n",
    "    \n",
    "    # Create a new DataLoader for the coreset\n",
    "    coreset_loader = torch.utils.data.DataLoader(\n",
    "        sub_train_loader.dataset, \n",
    "        batch_size=sub_train_loader.batch_size, \n",
    "        sampler=coreset_sampler)\n",
    "    \n",
    "    # Append the new coreset DataLoader to the list of existing coresets\n",
    "    coresets.append(coreset_loader)\n",
    "\n",
    "def attach_kCenter_coreset_split(coresets, sub_train_loader, num_samples=200):\n",
    "    dataset = sub_train_loader.dataset\n",
    "    print(dataset[0].size())\n",
    "    task_indices = sub_train_loader.sampler.indices\n",
    "    loader_size = len(task_indices)\n",
    "\n",
    "    #Initialization of first index\n",
    "    distances = torch.full((loader_size,), float('inf'))\n",
    "    #current_index = torch.randint(0, loader_size, (1,)).item()\n",
    "    current_index = 0\n",
    "    distances = _update_kcenter_distance(distances, dataset, task_indices, current_index)\n",
    "    coreset_indices = [task_indices[current_index]]\n",
    "    \n",
    "    #Adding furthest indices one-by-one\n",
    "    for _ in range(1, num_samples):\n",
    "        current_index = distances.argmax().item()\n",
    "        distances = _update_kcenter_distance(distances, dataset, task_indices, current_index)\n",
    "        coreset_indices.append(task_indices[current_index])\n",
    "    \n",
    "    # Update the DataLoader to exclude the coreset indices, thus reducing its size\n",
    "        # Update the DataLoader to exclude the coreset indices, thus reducing its size\n",
    "    remaining_indices = list(set(task_indices) - set(coreset_indices))\n",
    "    sub_train_loader.sampler.indices = remaining_indices\n",
    "\n",
    "    # Create a new DataLoader for the coreset\n",
    "    coreset_loader = torch.utils.data.DataLoader(\n",
    "        dataset, \n",
    "        batch_size=sub_train_loader.batch_size, \n",
    "        sampler=torch.utils.data.SubsetRandomSampler(coreset_indices))\n",
    "    \n",
    "    # Append the new coreset DataLoader to the list of existing coresets\n",
    "    coresets.append(coreset_loader)\n",
    "\n",
    "def _update_kcenter_distance(distances, dataset, task_indices, current_index):\n",
    "    #Re-calculate the distances based on the newest index addition\n",
    "    for i, idx in enumerate(task_indices): #Warning! Our dataloader might not have function len\n",
    "        current_dist = torch.norm(dataset[idx][0].float()-dataset[task_indices[current_index]][0].float(),p=2)\n",
    "        distances[i] = torch.minimum(current_dist, distances[i])\n",
    "    return distances\n"
   ]
  },
  {
   "cell_type": "code",
   "execution_count": 1,
   "metadata": {},
   "outputs": [
    {
     "ename": "NameError",
     "evalue": "name 'attach_kCenter_coreset_split' is not defined",
     "output_type": "error",
     "traceback": [
      "\u001b[1;31m---------------------------------------------------------------------------\u001b[0m",
      "\u001b[1;31mNameError\u001b[0m                                 Traceback (most recent call last)",
      "Cell \u001b[1;32mIn[1], line 33\u001b[0m\n\u001b[0;32m     30\u001b[0m c \u001b[38;5;241m=\u001b[39m []\n\u001b[0;32m     32\u001b[0m \u001b[38;5;66;03m# Assuming attach_kCenter_coreset_split is correctly defined as per your requirement\u001b[39;00m\n\u001b[1;32m---> 33\u001b[0m \u001b[43mattach_kCenter_coreset_split\u001b[49m(c, loader, num_samples\u001b[38;5;241m=\u001b[39m\u001b[38;5;241m5\u001b[39m)\n\u001b[0;32m     35\u001b[0m \u001b[38;5;66;03m# Step 4: Verify the selected coreset\u001b[39;00m\n\u001b[0;32m     36\u001b[0m \u001b[38;5;28mprint\u001b[39m(\u001b[38;5;124m\"\u001b[39m\u001b[38;5;124mCoreset Indices:\u001b[39m\u001b[38;5;124m\"\u001b[39m, c[\u001b[38;5;241m0\u001b[39m]\u001b[38;5;241m.\u001b[39msampler\u001b[38;5;241m.\u001b[39mindices)\n",
      "\u001b[1;31mNameError\u001b[0m: name 'attach_kCenter_coreset_split' is not defined"
     ]
    }
   ],
   "source": [
    "import torch\n",
    "from torch.utils.data import Dataset, DataLoader, SubsetRandomSampler\n",
    "\n",
    "# Step 1: Create a simple synthetic dataset\n",
    "class SyntheticDataset(Dataset):\n",
    "    def __init__(self, data):\n",
    "        self.data = data\n",
    "\n",
    "    def __len__(self):\n",
    "        return len(self.data)\n",
    "\n",
    "    def __getitem__(self, idx):\n",
    "        return self.data[idx], 0  # Returning 0 as a dummy label\n",
    "\n",
    "# Sample data: 10 points in 2D space\n",
    "data = torch.tensor([[1.0, 2.0, 1.0], [2.0, 1.0,3.0], [2.0, 4.0,3.0], [4.0, 2.0,3.0],\n",
    "                     [3.0, 3.0,3.0], [1.0, 3.0,3.0], [4.0, 1.0,3.0], [4.0, 4.0,3.0],\n",
    "                     [3.0, 1.0,3.0], [1.0, 4.0,3.0]])\n",
    "\n",
    "dataset = SyntheticDataset(data)\n",
    "\n",
    "dataset_size = len(dataset)\n",
    "indices = list(range(dataset_size))\n",
    "sampler = SubsetRandomSampler(indices)\n",
    "\n",
    "# Step 2: Prepare DataLoader\n",
    "loader = DataLoader(dataset, batch_size=2, sampler=sampler)\n",
    "\n",
    "# Step 3: Prepare a list to hold coresets (though it will hold only one for this test)\n",
    "c = []\n",
    "\n",
    "# Assuming attach_kCenter_coreset_split is correctly defined as per your requirement\n",
    "attach_kCenter_coreset_split(c, loader, num_samples=5)\n",
    "\n",
    "# Step 4: Verify the selected coreset\n",
    "print(\"Coreset Indices:\", c[0].sampler.indices)\n"
   ]
  },
  {
   "cell_type": "code",
   "execution_count": 6,
   "metadata": {},
   "outputs": [
    {
     "data": {
      "text/plain": [
       "tensor([1., 2., 1.])"
      ]
     },
     "execution_count": 6,
     "metadata": {},
     "output_type": "execute_result"
    }
   ],
   "source": [
    "loader.dataset[0][0]"
   ]
  },
  {
   "cell_type": "markdown",
   "metadata": {},
   "source": [
    "#Plot choices"
   ]
  },
  {
   "cell_type": "code",
   "execution_count": 23,
   "metadata": {},
   "outputs": [
    {
     "data": {
      "image/png": "[encoded data removed]",
      "text/plain": [
       "<Figure size 640x480 with 1 Axes>"
      ]
     },
     "metadata": {},
     "output_type": "display_data"
    }
   ],
   "source": [
    "import matplotlib.pyplot as plt\n",
    "import torch\n",
    "\n",
    "def plot_dataset_with_coreset(data, coreset_indices):\n",
    "    \"\"\"\n",
    "    Plot the dataset points and highlight the coreset points.\n",
    "\n",
    "    Args:\n",
    "        data (Tensor): The dataset, assumed to be a tensor of shape (n_points, 2).\n",
    "        coreset_indices (list or Tensor): Indices of the coreset points.\n",
    "    \"\"\"\n",
    "    # Convert coreset_indices to a list if it's a Tensor\n",
    "    if isinstance(coreset_indices, torch.Tensor):\n",
    "        coreset_indices = coreset_indices.tolist()\n",
    "\n",
    "    # Extract x and y coordinates of all points\n",
    "    x_all = data[:, 0].numpy()\n",
    "    y_all = data[:, 1].numpy()\n",
    "\n",
    "    # Extract x and y coordinates of coreset points\n",
    "    x_coreset = data[coreset_indices, 0].numpy()\n",
    "    y_coreset = data[coreset_indices, 1].numpy()\n",
    "\n",
    "    # Plot all points\n",
    "    plt.scatter(x_all, y_all, label='Dataset Points')\n",
    "\n",
    "    # Highlight coreset points\n",
    "    plt.scatter(x_coreset, y_coreset, color='red', label='Coreset Points', edgecolor='black')\n",
    "\n",
    "    # Adding title and legend\n",
    "    plt.title('Dataset with Coreset Points Highlighted')\n",
    "    plt.xlabel('X')\n",
    "    plt.ylabel('Y')\n",
    "    plt.legend()\n",
    "\n",
    "    # Show plot\n",
    "    plt.show()\n",
    "\n",
    "# Example usage based on your dataset and chosen coreset indices\n",
    "data = torch.tensor([[1.0, 2.0], [2.0, 1.0], [2.0, 4.0], [4.0, 2.0],\n",
    "                     [3.0, 3.0], [1.0, 3.0], [4.0, 1.0], [4.0, 4.0],\n",
    "                     [3.0, 1.0], [1.0, 4.0]])\n",
    "\n",
    "coreset_indices = [0, 7, 6, 2, 1]\n",
    "\n",
    "plot_dataset_with_coreset(data, coreset_indices)\n"
   ]
  },
  {
   "cell_type": "code",
   "execution_count": null,
   "metadata": {},
   "outputs": [],
   "source": []
  },
  {
   "cell_type": "markdown",
   "metadata": {},
   "source": [
    "# Code from the original paper (OR)"
   ]
  },
  {
   "cell_type": "code",
   "execution_count": 18,
   "metadata": {},
   "outputs": [],
   "source": [
    "# K-center coreset selection\n",
    "# def OR_k_center(x_coreset, y_coreset, x_train, y_train, coreset_size):\n",
    "def OR_k_center(x_train, coreset_size):\n",
    "    # Select K centers from (x_train, y_train) and add to current coreset (x_coreset, y_coreset)\n",
    "    dists = torch.full((x_train.size(0),), float('inf'))\n",
    "    current_id = 0\n",
    "    dists = OR_update_distance(dists, x_train, current_id)\n",
    "    idx = [current_id]\n",
    "\n",
    "    for i in range(1, coreset_size):\n",
    "        current_id = dists.argmax()\n",
    "        dists = OR_update_distance(dists, x_train, current_id)\n",
    "        idx.append(current_id)\n",
    "    \n",
    "    print(idx)\n",
    "\n",
    "    # x_coreset.append(x_train[idx])\n",
    "    # y_coreset.append(y_train[idx])\n",
    "    # x_train = torch.cat([x_train[:idx.min()], x_train[idx.max() + 1:]], dim=0)\n",
    "    # y_train = torch.cat([y_train[:idx.min()], y_train[idx.max() + 1:]], dim=0)\n",
    "\n",
    "    # return x_coreset, y_coreset, x_train, y_train\n",
    "\n",
    "def OR_update_distance(dists, x_train, current_id):\n",
    "    for i in range(x_train.size(0)):\n",
    "        current_dist = torch.norm(x_train[i] - x_train[current_id])\n",
    "        dists[i] = torch.minimum(current_dist, dists[i])\n",
    "    return dists"
   ]
  },
  {
   "cell_type": "markdown",
   "metadata": {},
   "source": [
    "Test their code:"
   ]
  },
  {
   "cell_type": "code",
   "execution_count": 19,
   "metadata": {},
   "outputs": [
    {
     "name": "stdout",
     "output_type": "stream",
     "text": [
      "[0, tensor(7), tensor(6), tensor(2), tensor(1)]\n"
     ]
    }
   ],
   "source": [
    "OR_k_center(data, 5)"
   ]
  }
 ],
 "metadata": {
  "kernelspec": {
   "display_name": ".venv",
   "language": "python",
   "name": "python3"
  },
  "language_info": {
   "codemirror_mode": {
    "name": "ipython",
    "version": 3
   },
   "file_extension": ".py",
   "mimetype": "text/x-python",
   "name": "python",
   "nbconvert_exporter": "python",
   "pygments_lexer": "ipython3",
   "version": "3.12.2"
  }
 },
 "nbformat": 4,
 "nbformat_minor": 2
}
