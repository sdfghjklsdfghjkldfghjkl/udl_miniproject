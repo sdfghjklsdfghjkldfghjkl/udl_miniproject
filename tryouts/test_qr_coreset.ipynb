{
 "cells": [
  {
   "cell_type": "code",
   "execution_count": 88,
   "metadata": {},
   "outputs": [
    {
     "name": "stdout",
     "output_type": "stream",
     "text": [
      "P_idx: tensor([3, 2, 1, 0])\n"
     ]
    }
   ],
   "source": [
    "import torch\n",
    "\n",
    "def qrcp(B):\n",
    "    A = B.t() #the transpose\n",
    "    m, n = A.shape\n",
    "    Q = torch.eye(m, m, dtype=A.dtype, device=A.device)\n",
    "    R = A.clone()\n",
    "    P = torch.arange(n, dtype=torch.long, device=A.device)\n",
    "    \n",
    "    for i in range(min(m, n)):\n",
    "        # Find the pivot - the column with the largest norm\n",
    "        norms = torch.norm(R[i:, i:], dim=0)\n",
    "        max_norm_col = torch.argmax(norms) + i\n",
    "        # Swap columns in R and rows in P\n",
    "        R[:, [i, max_norm_col]] = R[:, [max_norm_col, i]]\n",
    "        P[i], P[max_norm_col] = P[max_norm_col].item(), P[i].item()\n",
    "        \n",
    "        # Compute the Householder transformation for the current column\n",
    "        x = R[i:, i]\n",
    "        rho = -torch.sign(x[0]) if x[0] != 0 else -1\n",
    "        s = torch.sqrt(0.5 * (1 + abs(rho) * x[0] / torch.norm(x)))\n",
    "        v = torch.zeros_like(x)\n",
    "        v[0] = s\n",
    "        u = (x - rho * v) / (s * x[0])\n",
    "        v = u - v\n",
    "        \n",
    "        # Apply the transformation to R and Q\n",
    "        R[i:, i:] -= 2 * v.outer(v @ R[i:, i:])\n",
    "        Q[:, i:] -= 2 * (Q[:, i:] @ v).outer(v)\n",
    "    \n",
    "    # Adjust Q, R based on the permutation P\n",
    "    #P_matrix = torch.eye(n, dtype=A.dtype, device=A.device)[P]\n",
    "    return P\n",
    "\n",
    "# Example usage\n",
    "A = torch.rand(4, 3)  # Random 4x3 matrix\n",
    "P_index = qrcp(A)\n",
    "\n",
    "# print(\"Q:\", Q)\n",
    "# print(\"R:\", R)\n",
    "# print(\"P:\", P)\n",
    "print(\"P_idx:\", P_index)\n"
   ]
  },
  {
   "cell_type": "code",
   "execution_count": 89,
   "metadata": {},
   "outputs": [],
   "source": [
    "import torch\n",
    "\n",
    "\n",
    "def attach_qr_coreset_split(coresets, sub_train_loader, num_samples=200):\n",
    "\n",
    "    dataset = sub_train_loader.dataset\n",
    "    task_indices = sub_train_loader.sampler.indices\n",
    "    A = torch.stack([dataset[i][0].flatten().float() for i in task_indices])\n",
    "\n",
    "    P_indices = qrcp(A)\n",
    "\n",
    "    coreset_indices = task_indices[P_indices[:num_samples]]\n",
    "\n",
    "    sub_train_loader.sampler.indices = task_indices[P_indices[num_samples:]]\n",
    "\n",
    "    # Create a new sampler for the coreset based on the selected indices\n",
    "    coreset_sampler = torch.utils.data.SubsetRandomSampler(coreset_indices)\n",
    "    \n",
    "    # Create a new DataLoader for the coreset\n",
    "    coreset_loader = torch.utils.data.DataLoader(\n",
    "        sub_train_loader.dataset, \n",
    "        batch_size=sub_train_loader.batch_size, \n",
    "        sampler=coreset_sampler)\n",
    "    \n",
    "    # Append the new coreset DataLoader to the list of existing coresets\n",
    "    coresets.append(coreset_loader)\n"
   ]
  },
  {
   "cell_type": "markdown",
   "metadata": {},
   "source": [
    "A simple test"
   ]
  },
  {
   "cell_type": "code",
   "execution_count": null,
   "metadata": {},
   "outputs": [],
   "source": [
    "import torch\n",
    "from torch.utils.data import Dataset, DataLoader, SubsetRandomSampler"
   ]
  },
  {
   "cell_type": "code",
   "execution_count": 91,
   "metadata": {},
   "outputs": [
    {
     "ename": "TypeError",
     "evalue": "only integer tensors of a single element can be converted to an index",
     "output_type": "error",
     "traceback": [
      "\u001b[1;31m---------------------------------------------------------------------------\u001b[0m",
      "\u001b[1;31mTypeError\u001b[0m                                 Traceback (most recent call last)",
      "\u001b[1;32m<ipython-input-91-412df5f9da95>\u001b[0m in \u001b[0;36m<module>\u001b[1;34m\u001b[0m\n\u001b[0;32m     31\u001b[0m \u001b[1;33m\u001b[0m\u001b[0m\n\u001b[0;32m     32\u001b[0m \u001b[1;31m# Assuming attach_kCenter_coreset_split is correctly defined as per your requirement\u001b[0m\u001b[1;33m\u001b[0m\u001b[1;33m\u001b[0m\u001b[1;33m\u001b[0m\u001b[0m\n\u001b[1;32m---> 33\u001b[1;33m \u001b[0mattach_qr_coreset_split\u001b[0m\u001b[1;33m(\u001b[0m\u001b[0mc\u001b[0m\u001b[1;33m,\u001b[0m \u001b[0mloader\u001b[0m\u001b[1;33m,\u001b[0m \u001b[0mnum_samples\u001b[0m\u001b[1;33m=\u001b[0m\u001b[1;36m4\u001b[0m\u001b[1;33m)\u001b[0m\u001b[1;33m\u001b[0m\u001b[1;33m\u001b[0m\u001b[0m\n\u001b[0m\u001b[0;32m     34\u001b[0m \u001b[1;33m\u001b[0m\u001b[0m\n\u001b[0;32m     35\u001b[0m \u001b[1;31m# Step 4: Verify the selected coreset\u001b[0m\u001b[1;33m\u001b[0m\u001b[1;33m\u001b[0m\u001b[1;33m\u001b[0m\u001b[0m\n",
      "\u001b[1;32m<ipython-input-89-01bfd6efbbdd>\u001b[0m in \u001b[0;36mattach_qr_coreset_split\u001b[1;34m(coresets, sub_train_loader, num_samples)\u001b[0m\n\u001b[0;32m     10\u001b[0m     \u001b[0mP_indices\u001b[0m \u001b[1;33m=\u001b[0m \u001b[0mqrcp\u001b[0m\u001b[1;33m(\u001b[0m\u001b[0mA\u001b[0m\u001b[1;33m)\u001b[0m\u001b[1;33m\u001b[0m\u001b[1;33m\u001b[0m\u001b[0m\n\u001b[0;32m     11\u001b[0m \u001b[1;33m\u001b[0m\u001b[0m\n\u001b[1;32m---> 12\u001b[1;33m     \u001b[0mcoreset_indices\u001b[0m \u001b[1;33m=\u001b[0m \u001b[0mtask_indices\u001b[0m\u001b[1;33m[\u001b[0m\u001b[0mP_indices\u001b[0m\u001b[1;33m[\u001b[0m\u001b[1;33m:\u001b[0m\u001b[0mnum_samples\u001b[0m\u001b[1;33m]\u001b[0m\u001b[1;33m]\u001b[0m\u001b[1;33m\u001b[0m\u001b[1;33m\u001b[0m\u001b[0m\n\u001b[0m\u001b[0;32m     13\u001b[0m \u001b[1;33m\u001b[0m\u001b[0m\n\u001b[0;32m     14\u001b[0m     \u001b[0msub_train_loader\u001b[0m\u001b[1;33m.\u001b[0m\u001b[0msampler\u001b[0m\u001b[1;33m.\u001b[0m\u001b[0mindices\u001b[0m \u001b[1;33m=\u001b[0m \u001b[0mtask_indices\u001b[0m\u001b[1;33m[\u001b[0m\u001b[0mP_indices\u001b[0m\u001b[1;33m[\u001b[0m\u001b[0mnum_samples\u001b[0m\u001b[1;33m:\u001b[0m\u001b[1;33m]\u001b[0m\u001b[1;33m]\u001b[0m\u001b[1;33m\u001b[0m\u001b[1;33m\u001b[0m\u001b[0m\n",
      "\u001b[1;31mTypeError\u001b[0m: only integer tensors of a single element can be converted to an index"
     ]
    }
   ],
   "source": [
    "\n",
    "\n",
    "# # Step 1: Create a simple synthetic dataset\n",
    "class SyntheticDataset(Dataset):\n",
    "    def __init__(self, data):\n",
    "        self.data = data\n",
    "\n",
    "    def __len__(self):\n",
    "        return len(self.data)\n",
    "\n",
    "    def __getitem__(self, idx):\n",
    "        return self.data[idx], 0  # Returning 0 as a dummy label\n",
    "\n",
    "# Sample data: 10 points in 2D space\n",
    "data = torch.tensor([[1.0, 2.0, 1.0], [2.0, 1.0,3.0], [2.0, 4.0,3.0], [4.0, 2.0,3.0],\n",
    "                     [3.0, 3.0,3.0], [1.0, 3.0,3.0], [4.0, 1.0,3.0], [4.0, 4.0,3.0],\n",
    "                     [3.0, 1.0,3.0], [1.0, 4.0,3.0]])\n",
    "\n",
    "dataset = SyntheticDataset(data)\n",
    "\n",
    "# dataset_size = len(dataset)\n",
    "# indices = list(range(dataset_size))\n",
    "# sampler = SubsetRandomSampler(indices)\n",
    "\n",
    "# # Step 2: Prepare DataLoader\n",
    "# loader = DataLoader(dataset, batch_size=2, sampler=sampler)\n",
    "\n",
    "\n",
    "# # Step 3: Prepare a list to hold coresets (though it will hold only one for this test)\n",
    "# c = []\n",
    "\n",
    "# # Assuming attach_kCenter_coreset_split is correctly defined as per your requirement\n",
    "# attach_qr_coreset_split(c, loader, num_samples=4)\n",
    "\n",
    "# # Step 4: Verify the selected coreset\n",
    "# print(\"Coreset Indices:\", c[0].sampler.indices)\n",
    "# print(\"Dataset Indices:\", loader.sampler.indices)\n"
   ]
  },
  {
   "cell_type": "markdown",
   "metadata": {},
   "source": [
    "Now, lets test performing it twice"
   ]
  },
  {
   "cell_type": "code",
   "execution_count": 92,
   "metadata": {},
   "outputs": [
    {
     "ename": "TypeError",
     "evalue": "only integer tensors of a single element can be converted to an index",
     "output_type": "error",
     "traceback": [
      "\u001b[1;31m---------------------------------------------------------------------------\u001b[0m",
      "\u001b[1;31mTypeError\u001b[0m                                 Traceback (most recent call last)",
      "\u001b[1;32m<ipython-input-92-ecb425295326>\u001b[0m in \u001b[0;36m<module>\u001b[1;34m\u001b[0m\n\u001b[0;32m     11\u001b[0m \u001b[0mc\u001b[0m \u001b[1;33m=\u001b[0m \u001b[1;33m[\u001b[0m\u001b[1;33m]\u001b[0m\u001b[1;33m\u001b[0m\u001b[1;33m\u001b[0m\u001b[0m\n\u001b[0;32m     12\u001b[0m \u001b[1;31m# Assuming attach_kCenter_coreset_split is correctly defined as per your requirement\u001b[0m\u001b[1;33m\u001b[0m\u001b[1;33m\u001b[0m\u001b[1;33m\u001b[0m\u001b[0m\n\u001b[1;32m---> 13\u001b[1;33m \u001b[0mattach_qr_coreset_split\u001b[0m\u001b[1;33m(\u001b[0m\u001b[0mc\u001b[0m\u001b[1;33m,\u001b[0m \u001b[0mloader\u001b[0m\u001b[1;33m,\u001b[0m \u001b[0mnum_samples\u001b[0m\u001b[1;33m=\u001b[0m\u001b[1;36m2\u001b[0m\u001b[1;33m)\u001b[0m\u001b[1;33m\u001b[0m\u001b[1;33m\u001b[0m\u001b[0m\n\u001b[0m\u001b[0;32m     14\u001b[0m \u001b[1;33m\u001b[0m\u001b[0m\n\u001b[0;32m     15\u001b[0m \u001b[1;31m# Step 4: Verify the selected coreset\u001b[0m\u001b[1;33m\u001b[0m\u001b[1;33m\u001b[0m\u001b[1;33m\u001b[0m\u001b[0m\n",
      "\u001b[1;32m<ipython-input-89-01bfd6efbbdd>\u001b[0m in \u001b[0;36mattach_qr_coreset_split\u001b[1;34m(coresets, sub_train_loader, num_samples)\u001b[0m\n\u001b[0;32m     10\u001b[0m     \u001b[0mP_indices\u001b[0m \u001b[1;33m=\u001b[0m \u001b[0mqrcp\u001b[0m\u001b[1;33m(\u001b[0m\u001b[0mA\u001b[0m\u001b[1;33m)\u001b[0m\u001b[1;33m\u001b[0m\u001b[1;33m\u001b[0m\u001b[0m\n\u001b[0;32m     11\u001b[0m \u001b[1;33m\u001b[0m\u001b[0m\n\u001b[1;32m---> 12\u001b[1;33m     \u001b[0mcoreset_indices\u001b[0m \u001b[1;33m=\u001b[0m \u001b[0mtask_indices\u001b[0m\u001b[1;33m[\u001b[0m\u001b[0mP_indices\u001b[0m\u001b[1;33m[\u001b[0m\u001b[1;33m:\u001b[0m\u001b[0mnum_samples\u001b[0m\u001b[1;33m]\u001b[0m\u001b[1;33m]\u001b[0m\u001b[1;33m\u001b[0m\u001b[1;33m\u001b[0m\u001b[0m\n\u001b[0m\u001b[0;32m     13\u001b[0m \u001b[1;33m\u001b[0m\u001b[0m\n\u001b[0;32m     14\u001b[0m     \u001b[0msub_train_loader\u001b[0m\u001b[1;33m.\u001b[0m\u001b[0msampler\u001b[0m\u001b[1;33m.\u001b[0m\u001b[0mindices\u001b[0m \u001b[1;33m=\u001b[0m \u001b[0mtask_indices\u001b[0m\u001b[1;33m[\u001b[0m\u001b[0mP_indices\u001b[0m\u001b[1;33m[\u001b[0m\u001b[0mnum_samples\u001b[0m\u001b[1;33m:\u001b[0m\u001b[1;33m]\u001b[0m\u001b[1;33m]\u001b[0m\u001b[1;33m\u001b[0m\u001b[1;33m\u001b[0m\u001b[0m\n",
      "\u001b[1;31mTypeError\u001b[0m: only integer tensors of a single element can be converted to an index"
     ]
    }
   ],
   "source": [
    "data = torch.tensor([[1.0, 2.0, 1.0], [2.0, 1.0,3.0], [2.0, 4.0,3.0], [4.0, 2.0,3.0],\n",
    "                     [3.0, 3.0,3.0], [1.0, 3.0,5.0], [4.0, 1.0,3.0], [4.0, 4.0,3.0],\n",
    "                     [3.0, 1.0,3.0], [1.0, 4.0,3.0]])\n",
    "\n",
    "dataset = SyntheticDataset(data)\n",
    "\n",
    "dataset_size = len(dataset)\n",
    "indices = list(range(dataset_size))\n",
    "sampler = SubsetRandomSampler([1,2,3,4,5,6,7,8,9])\n",
    "loader = DataLoader(dataset, batch_size=2, sampler=sampler)\n",
    "c = []\n",
    "# Assuming attach_kCenter_coreset_split is correctly defined as per your requirement\n",
    "attach_qr_coreset_split(c, loader, num_samples=2)\n",
    "\n",
    "# Step 4: Verify the selected coreset\n",
    "print(\"Coreset Indices:\", c[0].sampler.indices)\n",
    "print(\"Dataset Indices:\", loader.sampler.indices)\n",
    "\n",
    "\n",
    "attach_qr_coreset_split(c, loader, num_samples=3)\n",
    "\n",
    "# Step 4: Verify the selected coreset\n",
    "print(\"Coreset Indices:\", c[1].sampler.indices)\n",
    "print(\"Dataset Indices:\", loader.sampler.indices)"
   ]
  },
  {
   "cell_type": "markdown",
   "metadata": {},
   "source": [
    "## Visualize"
   ]
  },
  {
   "cell_type": "code",
   "execution_count": 97,
   "metadata": {},
   "outputs": [],
   "source": [
    "import dataset\n",
    "import coresets\n",
    "\n",
    "not_mnist = True\n",
    "class_distribution = [[0, 1],[2, 3],[4, 5],[6, 7],[8, 9]]\n",
    "batch_size = 250\n",
    "num_samples = 10\n"
   ]
  },
  {
   "cell_type": "code",
   "execution_count": null,
   "metadata": {},
   "outputs": [],
   "source": [
    "dataloaders = dataset.SplitMnistDataloader(class_distribution, batch_size, not_mnist)\n",
    "trainloader, testloader = dataloaders[0]\n",
    "\n",
    "c = []\n",
    "\n",
    "attach_qr_coreset_split(c, trainloader, num_samples=num_samples)\n",
    "c[0].sampler.indices"
   ]
  },
  {
   "cell_type": "code",
   "execution_count": null,
   "metadata": {},
   "outputs": [
    {
     "data": {
      "text/plain": [
       "tensor([42435, 41358, 35505, 54943, 37738, 23104, 16485, 26184, 49889,    68])"
      ]
     },
     "execution_count": 75,
     "metadata": {},
     "output_type": "execute_result"
    }
   ],
   "source": [
    "import coresets\n",
    "dataloaders = dataset.SplitMnistDataloader(class_distribution, batch_size, not_mnist)\n",
    "trainloader, testloader = dataloaders[0]\n",
    "c_k = []\n",
    "num_samples = 10\n",
    "coresets.attach_kCenter_coreset_split(c_k, trainloader, num_samples=num_samples)\n",
    "c_k[0].sampler.indices"
   ]
  },
  {
   "cell_type": "code",
   "execution_count": null,
   "metadata": {},
   "outputs": [
    {
     "data": {
      "text/plain": [
       "tensor([36562, 37787, 56101, 42634, 52878, 31369, 59156, 57714, 11715, 10741])"
      ]
     },
     "execution_count": 76,
     "metadata": {},
     "output_type": "execute_result"
    }
   ],
   "source": [
    "dataloaders = dataset.SplitMnistDataloader(class_distribution, batch_size, not_mnist)\n",
    "trainloader, testloader = dataloaders[0]\n",
    "c_r = []\n",
    "num_samples = 10\n",
    "coresets.attach_random_coreset_split(c_r, trainloader, num_samples=num_samples)\n",
    "c_r[0].sampler.indices"
   ]
  },
  {
   "cell_type": "code",
   "execution_count": null,
   "metadata": {},
   "outputs": [],
   "source": [
    "import matplotlib.pyplot as plt\n",
    "\n",
    "# image = trainloader.dataset[3][0][0] #0 indicates whe want x not (x,y)\n",
    "# fig = plt.figure\n",
    "# plt.imshow(image, cmap='gray')\n",
    "# plt.show()"
   ]
  },
  {
   "cell_type": "code",
   "execution_count": null,
   "metadata": {},
   "outputs": [
    {
     "data": {
      "image/png": "[encoded data removed]",
      "text/plain": [
       "<Figure size 1080x432 with 30 Axes>"
      ]
     },
     "metadata": {
      "needs_background": "light"
     },
     "output_type": "display_data"
    }
   ],
   "source": [
    "num_row = 3\n",
    "num_col = num_samples\n",
    "\n",
    "\n",
    "# plot images\n",
    "fig, axes = plt.subplots(num_row, num_col, figsize=(1.5*num_col,2*num_row))\n",
    "\n",
    "dataloaders = dataset.SplitMnistDataloader(class_distribution, batch_size, not_mnist)\n",
    "trainloader, testloader = dataloaders[0]\n",
    "images = [trainloader.dataset[idx][0][0] for idx in c[0].sampler.indices]\n",
    "labels = [trainloader.dataset[idx][1] for idx in c[0].sampler.indices]\n",
    "for i in range(num_col):\n",
    "    #ax = axes[i//num_col, i%num_col]\n",
    "    ax = axes[0, i]\n",
    "    ax.imshow(images[i], cmap='gray')\n",
    "    ax.set_title('Label: {}'.format(labels[i]))\n",
    "\n",
    "images = [trainloader.dataset[idx][0][0] for idx in c_k[0].sampler.indices]\n",
    "labels = [trainloader.dataset[idx][1] for idx in c_k[0].sampler.indices]\n",
    "for i in range(num_col):\n",
    "    #ax = axes[i//num_col, i%num_col]\n",
    "    ax = axes[1, i]\n",
    "    ax.imshow(images[i], cmap='gray')\n",
    "    ax.set_title('Label: {}'.format(labels[i]))\n",
    "\n",
    "images = [trainloader.dataset[idx][0][0] for idx in c_r[0].sampler.indices]\n",
    "labels = [trainloader.dataset[idx][1] for idx in c_r[0].sampler.indices]\n",
    "for i in range(num_col):\n",
    "    #ax = axes[i//num_col, i%num_col]\n",
    "    ax = axes[2, i]\n",
    "    ax.imshow(images[i], cmap='gray')\n",
    "    ax.set_title('Label: {}'.format(labels[i]))\n",
    "\n",
    "plt.tight_layout()\n",
    "plt.show()"
   ]
  },
  {
   "cell_type": "markdown",
   "metadata": {},
   "source": [
    "Testing on the model !!!!"
   ]
  },
  {
   "cell_type": "code",
   "execution_count": null,
   "metadata": {},
   "outputs": [
    {
     "name": "stdout",
     "output_type": "stream",
     "text": [
      "Starting Task 1\n",
      "Replaying Task 1\n"
     ]
    },
    {
     "name": "stderr",
     "output_type": "stream",
     "text": [
      "100%|██████████| 10/10 [00:01<00:00,  6.91it/s]\n"
     ]
    },
    {
     "name": "stdout",
     "output_type": "stream",
     "text": [
      "Done Training Coreset 1\n",
      "Task 1 Accuracy: 0.9471263474295191\n",
      "\n",
      "Starting Task 2\n",
      "Replaying Task 1\n"
     ]
    },
    {
     "name": "stderr",
     "output_type": "stream",
     "text": [
      "100%|██████████| 10/10 [00:01<00:00,  7.28it/s]\n"
     ]
    },
    {
     "name": "stdout",
     "output_type": "stream",
     "text": [
      "Done Training Coreset 2\n",
      "Replaying Task 2\n"
     ]
    },
    {
     "name": "stderr",
     "output_type": "stream",
     "text": [
      "100%|██████████| 10/10 [00:01<00:00,  6.95it/s]\n"
     ]
    },
    {
     "name": "stdout",
     "output_type": "stream",
     "text": [
      "Done Training Coreset 2\n",
      "Task 1 Accuracy: 0.9719436670812603\n",
      "Task 2 Accuracy: 0.6812734375\n",
      "\n",
      "Starting Task 3\n",
      "Replaying Task 1\n"
     ]
    },
    {
     "name": "stderr",
     "output_type": "stream",
     "text": [
      "100%|██████████| 10/10 [00:01<00:00,  7.13it/s]\n"
     ]
    },
    {
     "name": "stdout",
     "output_type": "stream",
     "text": [
      "Done Training Coreset 3\n",
      "Replaying Task 2\n"
     ]
    },
    {
     "name": "stderr",
     "output_type": "stream",
     "text": [
      "100%|██████████| 10/10 [00:01<00:00,  6.91it/s]\n"
     ]
    },
    {
     "name": "stdout",
     "output_type": "stream",
     "text": [
      "Done Training Coreset 3\n",
      "Replaying Task 3\n"
     ]
    },
    {
     "name": "stderr",
     "output_type": "stream",
     "text": [
      "100%|██████████| 10/10 [00:01<00:00,  6.68it/s]\n"
     ]
    },
    {
     "name": "stdout",
     "output_type": "stream",
     "text": [
      "Done Training Coreset 3\n",
      "Task 1 Accuracy: 0.9803456674958542\n",
      "Task 2 Accuracy: 0.7996953125\n",
      "Task 3 Accuracy: 0.7173208841463414\n",
      "\n",
      "Starting Task 4\n",
      "Replaying Task 1\n"
     ]
    },
    {
     "name": "stderr",
     "output_type": "stream",
     "text": [
      "100%|██████████| 10/10 [00:01<00:00,  6.78it/s]\n"
     ]
    },
    {
     "name": "stdout",
     "output_type": "stream",
     "text": [
      "Done Training Coreset 4\n",
      "Replaying Task 2\n"
     ]
    },
    {
     "name": "stderr",
     "output_type": "stream",
     "text": [
      "100%|██████████| 10/10 [00:01<00:00,  7.40it/s]\n"
     ]
    },
    {
     "name": "stdout",
     "output_type": "stream",
     "text": [
      "Done Training Coreset 4\n",
      "Replaying Task 3\n"
     ]
    },
    {
     "name": "stderr",
     "output_type": "stream",
     "text": [
      "100%|██████████| 10/10 [00:01<00:00,  7.38it/s]\n"
     ]
    },
    {
     "name": "stdout",
     "output_type": "stream",
     "text": [
      "Done Training Coreset 4\n",
      "Replaying Task 4\n"
     ]
    },
    {
     "name": "stderr",
     "output_type": "stream",
     "text": [
      "100%|██████████| 10/10 [00:01<00:00,  5.58it/s]\n"
     ]
    },
    {
     "name": "stdout",
     "output_type": "stream",
     "text": [
      "Done Training Coreset 4\n",
      "Task 1 Accuracy: 0.9887930140961857\n",
      "Task 2 Accuracy: 0.846734375\n",
      "Task 3 Accuracy: 0.8052591463414633\n",
      "Task 4 Accuracy: 0.7633094394329897\n",
      "\n",
      "Starting Task 5\n",
      "Replaying Task 1\n"
     ]
    },
    {
     "name": "stderr",
     "output_type": "stream",
     "text": [
      "100%|██████████| 10/10 [00:01<00:00,  6.86it/s]\n"
     ]
    },
    {
     "name": "stdout",
     "output_type": "stream",
     "text": [
      "Done Training Coreset 5\n",
      "Replaying Task 2\n"
     ]
    },
    {
     "name": "stderr",
     "output_type": "stream",
     "text": [
      "100%|██████████| 10/10 [00:01<00:00,  7.00it/s]\n"
     ]
    },
    {
     "name": "stdout",
     "output_type": "stream",
     "text": [
      "Done Training Coreset 5\n",
      "Replaying Task 3\n"
     ]
    },
    {
     "name": "stderr",
     "output_type": "stream",
     "text": [
      "100%|██████████| 10/10 [00:01<00:00,  6.88it/s]\n"
     ]
    },
    {
     "name": "stdout",
     "output_type": "stream",
     "text": [
      "Done Training Coreset 5\n",
      "Replaying Task 4\n"
     ]
    },
    {
     "name": "stderr",
     "output_type": "stream",
     "text": [
      "100%|██████████| 10/10 [00:01<00:00,  6.17it/s]\n"
     ]
    },
    {
     "name": "stdout",
     "output_type": "stream",
     "text": [
      "Done Training Coreset 5\n",
      "Replaying Task 5\n"
     ]
    },
    {
     "name": "stderr",
     "output_type": "stream",
     "text": [
      "100%|██████████| 10/10 [00:01<00:00,  6.03it/s]\n"
     ]
    },
    {
     "name": "stdout",
     "output_type": "stream",
     "text": [
      "Done Training Coreset 5\n",
      "Task 1 Accuracy: 0.9926992640961857\n",
      "Task 2 Accuracy: 0.87708984375\n",
      "Task 3 Accuracy: 0.8434046303353658\n",
      "Task 4 Accuracy: 0.838404075386598\n",
      "Task 5 Accuracy: 0.6989835569371727\n",
      "\n",
      "[[0.94712635        nan        nan        nan        nan]\n",
      " [0.97194367 0.68127344        nan        nan        nan]\n",
      " [0.98034567 0.79969531 0.71732088        nan        nan]\n",
      " [0.98879301 0.84673438 0.80525915 0.76330944        nan]\n",
      " [0.99269926 0.87708984 0.84340463 0.83840408 0.69898356]]\n",
      "QR Coreset Only\n",
      "Average accuracy after each task: [0.94712635 0.82660855 0.83245395 0.85102399 0.85011627]\n"
     ]
    }
   ],
   "source": [
    "import torch\n",
    "\n",
    "import vcl\n",
    "import dataset\n",
    "import coresets\n",
    "import numpy as np\n",
    "from models import MultiheadModel\n",
    "\n",
    "device = torch.device(\"cuda\") if torch.cuda.is_available() else torch.device(\"cpu\")\n",
    "\n",
    "num_tasks = 5\n",
    "num_epochs = 10 # 100 or 10\n",
    "single_head = False\n",
    "batch_size = 256\n",
    "\n",
    "class_distribution = [\n",
    "    [0, 1],\n",
    "    [2, 3],\n",
    "    [4, 5],\n",
    "    [6, 7],\n",
    "    [8, 9],\n",
    "]\n",
    "dataloaders = dataset.SplitMnistDataloader(class_distribution, batch_size, not_mnist)\n",
    "model = MultiheadModel(28*28)\n",
    "model.to(device)\n",
    "\n",
    "# # Vanilla VCL - no coreset\n",
    "# coreset_size = 0\n",
    "# coreset_method = coresets.attach_random_coreset_split\n",
    "# vcl.run_vcl(num_tasks, single_head, num_epochs, dataloaders,\n",
    "#             model, coreset_method, coreset_size, beta=0.01)\n",
    "\n",
    "# QR Coreset VCL\n",
    "\n",
    "# coreset_size = 40\n",
    "# coreset_method = attach_qr_coreset_split\n",
    "# all_accs = vcl.run_vcl(num_tasks, single_head, num_epochs, dataloaders,\n",
    "#             model, coreset_method, coreset_size, beta=0.01)\n",
    "# accs = np.nanmean(all_accs, axis=1)\n",
    "# print(\"QR Coreset VCL\")\n",
    "# print(\"Average accuracy after each task:\", accs)\n",
    "\n",
    "# # Random Coreset VCL\n",
    "# coreset_size = 200\n",
    "# coreset_method = coresets.attach_random_coreset_split\n",
    "# vcl.run_vcl(num_tasks, single_head, num_epochs, dataloaders,\n",
    "#             model, coreset_method, coreset_size, beta=0.01)\n",
    "\n",
    "# K-Center Coreset VCL\n",
    "\n",
    "# coreset_size = 40\n",
    "# coreset_method = coresets.attach_kCenter_coreset_split\n",
    "# all_accs = vcl.run_vcl(num_tasks, single_head, num_epochs, dataloaders,\n",
    "#             model, coreset_method, coreset_size, beta=0.01)\n",
    "# accs = np.nanmean(all_accs, axis=1)\n",
    "# print(\"K-Center Coreset VCL\")\n",
    "# print(\"Average accuracy after each task:\", accs)\n",
    "\n",
    "# Random Coreset Only\n",
    "# coreset_size = 200\n",
    "# coreset_method = coresets.attach_random_coreset_split\n",
    "# all_accs = vcl.run_coresetonly(num_tasks, single_head, num_epochs, dataloaders,\n",
    "#             model, coreset_method, coreset_size, beta=0.01)\n",
    "# accs = np.nanmean(all_accs, axis=1)\n",
    "# print(\"Average accuracy after each task:\", accs)\n",
    "\n",
    "# K-center Coreset Only\n",
    "\n",
    "# coreset_size = 200\n",
    "# coreset_method = coresets.attach_kCenter_coreset_split\n",
    "# all_accs = vcl.run_coresetonly(num_tasks, single_head, num_epochs, dataloaders,\n",
    "#             model, coreset_method, coreset_size, beta=0.01)\n",
    "# accs = np.nanmean(all_accs, axis=1)\n",
    "# print(\"K-center Coreset Only\")\n",
    "# print(\"Average accuracy after each task:\", accs)\n",
    "\n",
    "# QR-coreset Only\n",
    "\n",
    "coreset_size = 200\n",
    "coreset_method = attach_qr_coreset_split\n",
    "all_accs = vcl.run_coresetonly(num_tasks, single_head, num_epochs, dataloaders,\n",
    "            model, coreset_method, coreset_size, beta=0.01)\n",
    "accs = np.nanmean(all_accs, axis=1)\n",
    "print(\"QR Coreset Only\")\n",
    "print(\"Average accuracy after each task:\", accs)\n",
    "#Better batch\n",
    "# joint_class_distribution = [\n",
    "#     [0, 1],\n",
    "#     [0, 1, 2, 3],\n",
    "#     [0, 1, 2, 3, 4, 5],\n",
    "#     [0, 1, 2, 3, 4, 5, 6, 7],\n",
    "#     [0, 1, 2, 3, 4, 5, 6, 7, 8, 9],\n",
    "# ]\n",
    "# dataloaders = dataset.SplitMnistDataloader(class_distribution, batch_size, not_mnist)\n",
    "# coreset_size = 0 #irrelevant\n",
    "# coreset_method = coresets.attach_kCenter_coreset_split #irrelevant\n",
    "# all_accs = vcl.run_vcl(num_tasks, single_head, num_epochs, dataloaders,\n",
    "#             model, coreset_method, coreset_size, beta=0.01)\n",
    "# accs = np.nanmean(all_accs, axis=1)\n",
    "# print(\"Average accuracy after each task:\", accs)\n",
    "\n",
    "\n",
    "# # Batch??? vcl.run_full\n",
    "# joint_class_distribution = [\n",
    "#     [0, 1],\n",
    "#     [0, 1, 2, 3],\n",
    "#     [0, 1, 2, 3, 4, 5],\n",
    "#     [0, 1, 2, 3, 4, 5, 6, 7],\n",
    "#     [0, 1, 2, 3, 4, 5, 6, 7, 8, 9],\n",
    "# ]\n",
    "# dataloaders = dataset.SplitMnistDataloader(class_distribution, batch_size, not_mnist)\n",
    "# coreset_size = 0 #irrelevant\n",
    "# coreset_method = coresets.attach_kCenter_coreset_split #irrelevant\n",
    "# all_accs = vcl.run_full(num_tasks, single_head, num_epochs, dataloaders,\n",
    "#             model, coreset_method, coreset_size, beta=0.01)\n",
    "# accs = np.nanmean(all_accs, axis=1)\n",
    "# print(\"Average accuracy after each task:\", accs)\n",
    "\n",
    "\n"
   ]
  }
 ],
 "metadata": {
  "kernelspec": {
   "display_name": "Python 3",
   "language": "python",
   "name": "python3"
  },
  "language_info": {
   "codemirror_mode": {
    "name": "ipython",
    "version": 3
   },
   "file_extension": ".py",
   "mimetype": "text/x-python",
   "name": "python",
   "nbconvert_exporter": "python",
   "pygments_lexer": "ipython3",
   "version": "3.7.3"
  }
 },
 "nbformat": 4,
 "nbformat_minor": 2
}
